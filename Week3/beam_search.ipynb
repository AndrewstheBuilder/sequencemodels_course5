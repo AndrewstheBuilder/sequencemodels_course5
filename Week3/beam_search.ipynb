{
 "cells": [
  {
   "cell_type": "code",
   "execution_count": 2,
   "metadata": {},
   "outputs": [],
   "source": [
    "import numpy as np\n",
    "# define a sequence of 10 words over a vocab of 5 words\n",
    "data = [[0.1, 0.2, 0.3, 0.4, 0.5],\n",
    " [0.5, 0.4, 0.3, 0.2, 0.1],\n",
    " [0.1, 0.2, 0.3, 0.4, 0.5],\n",
    " [0.5, 0.4, 0.3, 0.2, 0.1],\n",
    " [0.1, 0.2, 0.3, 0.4, 0.5],\n",
    " [0.5, 0.4, 0.3, 0.2, 0.1],\n",
    " [0.1, 0.2, 0.3, 0.4, 0.5],\n",
    " [0.5, 0.4, 0.3, 0.2, 0.1],\n",
    " [0.1, 0.2, 0.3, 0.4, 0.5],\n",
    " [0.5, 0.4, 0.3, 0.2, 0.1]]\n",
    "data = np.array(data)"
   ]
  },
  {
   "cell_type": "code",
   "execution_count": 6,
   "metadata": {},
   "outputs": [
    {
     "name": "stdout",
     "output_type": "stream",
     "text": [
      "[4, 0, 4, 0, 4, 0, 4, 0, 4, 0]\n"
     ]
    }
   ],
   "source": [
    "# Greedy Search Algorithm\n",
    "def greedy_decoder(data):\n",
    "    # index for largest probability in each row\n",
    "    return [np.argmax(s) for s in data]\n",
    "print(greedy_decoder(data))"
   ]
  },
  {
   "cell_type": "code",
   "execution_count": 7,
   "metadata": {},
   "outputs": [
    {
     "data": {
      "text/plain": [
       "[[[4, 0, 4, 0, 4, 0, 4, 0, 4, 0], 6.931471805599453],\n",
       " [[4, 0, 4, 0, 4, 0, 4, 0, 4, 1], 7.154615356913663],\n",
       " [[4, 0, 4, 0, 4, 0, 4, 0, 3, 0], 7.154615356913663]]"
      ]
     },
     "execution_count": 7,
     "metadata": {},
     "output_type": "execute_result"
    }
   ],
   "source": [
    "import numpy as np\n",
    "\n",
    "data = [[0.1, 0.2, 0.3, 0.4, 0.5],\n",
    " [0.5, 0.4, 0.3, 0.2, 0.1],\n",
    " [0.1, 0.2, 0.3, 0.4, 0.5],\n",
    " [0.5, 0.4, 0.3, 0.2, 0.1],\n",
    " [0.1, 0.2, 0.3, 0.4, 0.5],\n",
    " [0.5, 0.4, 0.3, 0.2, 0.1],\n",
    " [0.1, 0.2, 0.3, 0.4, 0.5],\n",
    " [0.5, 0.4, 0.3, 0.2, 0.1],\n",
    " [0.1, 0.2, 0.3, 0.4, 0.5],\n",
    " [0.5, 0.4, 0.3, 0.2, 0.1]]\n",
    "data = np.array(data)\n",
    "\n",
    "# Beam Search\n",
    "def beam_search_decoder(data, k):\n",
    "    sequences = [[list(), 0.0]]\n",
    "    # walk over each step in sequence\n",
    "    for row in data:\n",
    "        all_candidates = list()\n",
    "        # expand each current candidate\n",
    "        for i in range(len(sequences)):\n",
    "            seq, score = sequences[i]\n",
    "            for j in range(len(row)):\n",
    "                candidate = [seq + [j], score - np.log(row[j])]\n",
    "                all_candidates.append(candidate)\n",
    "        # order all candidates by score\n",
    "        ordered = sorted(all_candidates, key=lambda tup:tup[1])\n",
    "        # select k best\n",
    "        # this is where it drops less likely items\n",
    "        sequences = ordered[:k]\n",
    "    return sequences\n",
    "beam_search_decoder(data, k=3)"
   ]
  }
 ],
 "metadata": {
  "kernelspec": {
   "display_name": "base",
   "language": "python",
   "name": "python3"
  },
  "language_info": {
   "codemirror_mode": {
    "name": "ipython",
    "version": 3
   },
   "file_extension": ".py",
   "mimetype": "text/x-python",
   "name": "python",
   "nbconvert_exporter": "python",
   "pygments_lexer": "ipython3",
   "version": "3.8.5"
  }
 },
 "nbformat": 4,
 "nbformat_minor": 2
}
